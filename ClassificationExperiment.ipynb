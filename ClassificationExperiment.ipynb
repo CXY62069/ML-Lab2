{
 "cells": [
  {
   "cell_type": "code",
   "execution_count": 2,
   "metadata": {
    "collapsed": true
   },
   "outputs": [],
   "source": [
    "from numpy import *\n",
    "from sklearn import preprocessing\n",
    "import numpy as np\n",
    "import matplotlib.pyplot as plt\n",
    "from sklearn.model_selection import train_test_split\n",
    "from sklearn.datasets import load_svmlight_file"
   ]
  },
  {
   "cell_type": "code",
   "execution_count": 36,
   "metadata": {},
   "outputs": [],
   "source": [
    "#读取数据\n",
    "x_train, y_train = load_svmlight_file(\"a9a.txt\",n_features=123)\n",
    "x_test, y_test = load_svmlight_file(\"a9a.t\", n_features=123)\n",
    "\n",
    "y_train =  y_train.reshape(y_train.shape[0],1)\n",
    "y_test =  y_test.reshape(y_test.shape[0],1)\n",
    "\n",
    "\n",
    "m, n = np.shape(x_train)\n",
    "\n",
    "theta = np.ones((n, 1))\n",
    "maxIteration = 500\n",
    "c = 0.5\n",
    "learning_rate = 0.01"
   ]
  },
  {
   "cell_type": "code",
   "execution_count": 37,
   "metadata": {},
   "outputs": [],
   "source": [
    "def cal_stochastic_gradient(theta):\n",
    "    index =  (1 - y_train * (x_train * theta) < 0)\n",
    "    y = y_train.copy()\n",
    "    y[index] = 0\n",
    "    randomNum = np.random.randint(0,x_train.shape[0])\n",
    "    epsilon_gradient = - ((x_train)[randomNum].T * y[randomNum]).reshape(123,1)\n",
    "    gradient = theta +  epsilon_gradient\n",
    "    return gradient\n",
    "\n",
    "def cal_hinge_loss(theta,x,y):\n",
    "    epsilon_loss = 1 - y * x.dot(theta)\n",
    "    epsilon_loss[epsilon_loss<0] = 0\n",
    "    loss = 0.5 * np.dot(theta.transpose(), theta).sum() + epsilon_loss.sum()\n",
    "    return loss/x.shape[0]\n",
    "    \n",
    "def cal_accur(x,y,theta):\n",
    "    hypothesis = x * theta\n",
    "    hypothesis[hypothesis > 0] = 1\n",
    "    hypothesis[hypothesis <= 0] = -1\n",
    "    return np.count_nonzero(hypothesis == y)/ x.shape[0]\n",
    "\n",
    "train_loss, test_loss, train_accr, test_accr = [],[],[],[]\n",
    "\n",
    "def gradientDescent(w):\n",
    "    for i in range(maxIteration):\n",
    "        gradient = cal_stochastic_gradient(w)\n",
    "        w -= learning_rate*gradient\n",
    "        \n",
    "        train_loss.append(cal_hinge_loss(w,x_train,y_train))\n",
    "        test_loss.append( cal_hinge_loss(w,x_test,y_test))\n",
    "        train_accr.append(cal_accur(x_train,y_train,w))\n",
    "        test_accr.append(cal_accur(x_test,y_test,w))\n",
    "        \n",
    "gradientDescent(theta)"
   ]
  },
  {
   "cell_type": "code",
   "execution_count": 38,
   "metadata": {},
   "outputs": [],
   "source": [
    "train_loss_n,test_loss_n,train_accr,test_accr = [],[],[],[]\n",
    "theta = np.ones((n, 1))\n",
    "\n",
    "def NAG(w):\n",
    "    vt = 0\n",
    "    gama = 0.9\n",
    "\n",
    "    for i in range(maxIteration):\n",
    "        gradient = cal_stochastic_gradient(w -gama*vt)\n",
    "        vt = gama*vt + learning_rate * gradient\n",
    "        w = w - vt\n",
    "        \n",
    "        train_loss_n.append(cal_hinge_loss(w,x_train,y_train))\n",
    "        test_loss_n.append( cal_hinge_loss(w,x_test,y_test))\n",
    "        train_accr.append(cal_accur(x_train,y_train,w))\n",
    "        test_accr.append(cal_accur(x_test,y_test,w))\n",
    "        \n",
    "NAG(theta)"
   ]
  },
  {
   "cell_type": "code",
   "execution_count": 39,
   "metadata": {
    "collapsed": true
   },
   "outputs": [],
   "source": [
    "train_loss_r,test_loss_r,train_accr,test_accr = [],[],[],[]\n",
    "theta = np.ones((n, 1))\n",
    "\n",
    "def RMSProp(w):\n",
    "    gama = 0.9\n",
    "    vt = 0\n",
    "    Egt = 0\n",
    "    e=0.00000001  \n",
    "    learning_rate = 0.3\n",
    "\n",
    "    for i in range(0, maxIteration):\n",
    "        gradient = cal_stochastic_gradient(w - gama*vt)\n",
    "        Egt = gama * Egt + ((1-gama)*(gradient**2)).sum()  \n",
    "        w -= learning_rate*gradient/math.sqrt(Egt + e)  \n",
    "\n",
    "        train_loss_r.append(cal_hinge_loss(w,x_train,y_train))\n",
    "        test_loss_r.append( cal_hinge_loss(w,x_test,y_test))\n",
    "        train_accr.append(cal_accur(x_train,y_train,w))\n",
    "        test_accr.append(cal_accur(x_test,y_test,w))\n",
    "        \n",
    "RMSProp(theta)"
   ]
  },
  {
   "cell_type": "code",
   "execution_count": 40,
   "metadata": {
    "collapsed": true
   },
   "outputs": [],
   "source": [
    "train_loss_aDe,test_loss_aDe,train_accr,test_accr= [],[],[],[]\n",
    "theta = np.ones((n, 1))\n",
    "\n",
    "def adaDelta(w):\n",
    "\n",
    "    rho = 0.9\n",
    "    Egt=0  \n",
    "    Edt = 0  \n",
    "    e=0.00000001  \n",
    "    delta = 0  \n",
    "    learning_rate = 2000\n",
    "\n",
    "    for i in range(0, maxIteration):\n",
    "        \n",
    "        gradient = cal_stochastic_gradient(w)\n",
    "        Egt = rho * Egt + ((1-rho)*(gradient**2) ).sum()  \n",
    "        delta = - math.sqrt(Edt + e)*gradient/math.sqrt(Egt + e)\n",
    "        Edt =rho*Edt+( (1-rho)*(delta**2) ).sum()  \n",
    "        w = w + learning_rate*delta \n",
    "        \n",
    "        train_loss_aDe.append(cal_hinge_loss(w,x_train,y_train))\n",
    "        test_loss_aDe.append( cal_hinge_loss(w,x_test,y_test))\n",
    "        train_accr.append(cal_accur(x_train,y_train,w))\n",
    "        test_accr.append(cal_accur(x_test,y_test,w))\n",
    "adaDelta(theta)"
   ]
  },
  {
   "cell_type": "code",
   "execution_count": 41,
   "metadata": {
    "collapsed": true
   },
   "outputs": [],
   "source": [
    "train_loss_ad,test_loss_ad,train_accr,test_accr = [],[],[],[]\n",
    "theta = np.ones((n, 1))\n",
    "\n",
    "def adam(w):\n",
    " \n",
    "    t = 0 \n",
    "    m = 0  \n",
    "    v = 0  \n",
    "    b1 = 0.9  \n",
    "    b2 = 0.995  \n",
    "    learning_rate = 0.05\n",
    "    \n",
    "    for i in range(0, maxIteration):\n",
    "        \n",
    "        gradient = cal_stochastic_gradient(w)\n",
    "        t +=1 \n",
    "        m = b1*m + ((1-b1)*gradient).sum() \n",
    "        v = b2*v + ((1-b2)*(gradient**2)).sum()  \n",
    "        mt = m/(1-(b1**t))  \n",
    "        vt = v/(1-(b2**t)) \n",
    "        w = w- learning_rate * mt/(math.sqrt(vt)+e) \n",
    "        \n",
    "        train_loss_ad.append(cal_hinge_loss(w,x_train,y_train))\n",
    "        test_loss_ad.append( cal_hinge_loss(w,x_test,y_test))\n",
    "        train_accr.append(cal_accur(x_train,y_train,w))\n",
    "        test_accr.append(cal_accur(x_test,y_test,w))\n",
    "        \n",
    "adam(theta)"
   ]
  },
  {
   "cell_type": "code",
   "execution_count": 42,
   "metadata": {},
   "outputs": [
    {
     "data": {
      "text/plain": [
       "<matplotlib.legend.Legend at 0x1f6e1b01438>"
      ]
     },
     "execution_count": 42,
     "metadata": {},
     "output_type": "execute_result"
    },
    {
     "data": {
      "image/png": "[encoded data removed]",
      "text/plain": [
       "<matplotlib.figure.Figure at 0x1f6e1987c18>"
      ]
     },
     "metadata": {},
     "output_type": "display_data"
    }
   ],
   "source": [
    "%matplotlib inline\n",
    "plt.plot(train_loss_n, label=\"L_NAG\")\n",
    "plt.plot(train_loss_r, label =\"L_RMSProp\")\n",
    "plt.plot(train_loss_aDe, label=\"L_adaDelta\")\n",
    "plt.plot(train_loss_ad, label=\"L_adam\")\n",
    "plt.legend(loc=\"upper right\")"
   ]
  }
 ],
 "metadata": {
  "kernelspec": {
   "display_name": "Python 3",
   "language": "python",
   "name": "python3"
  },
  "language_info": {
   "codemirror_mode": {
    "name": "ipython",
    "version": 3
   },
   "file_extension": ".py",
   "mimetype": "text/x-python",
   "name": "python",
   "nbconvert_exporter": "python",
   "pygments_lexer": "ipython3",
   "version": "3.6.3"
  }
 },
 "nbformat": 4,
 "nbformat_minor": 2
}
